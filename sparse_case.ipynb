{
 "cells": [
  {
   "cell_type": "code",
   "execution_count": 55,
   "metadata": {},
   "outputs": [],
   "source": [
    "import csv\n",
    "import pdb\n",
    "import numpy as np\n",
    "import random\n",
    "random.seed(2000)\n",
    "import ast\n",
    "import os\n",
    "import collections\n",
    "from importlib import reload\n",
    "import pandas as pd\n",
    "import matplotlib.pyplot as plt\n",
    "import matplotlib.ticker as mtick\n",
    "from matplotlib import cm\n",
    "from matplotlib.colors import LightSource\n",
    "import scipy.stats"
   ]
  },
  {
   "cell_type": "code",
   "execution_count": 56,
   "metadata": {},
   "outputs": [
    {
     "data": {
      "text/plain": [
       "'C:\\\\Users\\\\Owner\\\\Desktop\\\\dataset\\\\lumbar-conformal-main\\\\scripts'"
      ]
     },
     "execution_count": 56,
     "metadata": {},
     "output_type": "execute_result"
    }
   ],
   "source": [
    "os.getcwd()"
   ]
  },
  {
   "cell_type": "code",
   "execution_count": 57,
   "metadata": {},
   "outputs": [],
   "source": [
    "os.chdir('/Users/Owner/Desktop/dataset/lumbar-conformal-main/scripts')\n",
    "import conformal_demo"
   ]
  },
  {
   "cell_type": "code",
   "execution_count": 58,
   "metadata": {},
   "outputs": [],
   "source": [
    "num_trials=10\n",
    "#alphas = np.array([0.01,0.05,0.1,0.15,0.2])\n",
    "alphas = np.arange(0.01,0.21,0.01)\n",
    "cal_percent = 0.35"
   ]
  },
  {
   "cell_type": "code",
   "execution_count": 59,
   "metadata": {},
   "outputs": [
    {
     "data": {
      "text/plain": [
       "array([0.01, 0.02, 0.03, 0.04, 0.05, 0.06, 0.07, 0.08, 0.09, 0.1 , 0.11,\n",
       "       0.12, 0.13, 0.14, 0.15, 0.16, 0.17, 0.18, 0.19, 0.2 ])"
      ]
     },
     "execution_count": 59,
     "metadata": {},
     "output_type": "execute_result"
    }
   ],
   "source": [
    "alphas"
   ]
  },
  {
   "cell_type": "code",
   "execution_count": 60,
   "metadata": {},
   "outputs": [],
   "source": [
    "df = pd.read_csv('/Users/Owner/Desktop/mydata.csv')"
   ]
  },
  {
   "cell_type": "code",
   "execution_count": 61,
   "metadata": {},
   "outputs": [
    {
     "data": {
      "text/html": [
       "<div>\n",
       "<style scoped>\n",
       "    .dataframe tbody tr th:only-of-type {\n",
       "        vertical-align: middle;\n",
       "    }\n",
       "\n",
       "    .dataframe tbody tr th {\n",
       "        vertical-align: top;\n",
       "    }\n",
       "\n",
       "    .dataframe thead th {\n",
       "        text-align: right;\n",
       "    }\n",
       "</style>\n",
       "<table border=\"1\" class=\"dataframe\">\n",
       "  <thead>\n",
       "    <tr style=\"text-align: right;\">\n",
       "      <th></th>\n",
       "      <th>Unnamed: 0</th>\n",
       "      <th>X1</th>\n",
       "      <th>X2</th>\n",
       "      <th>X3</th>\n",
       "      <th>X4</th>\n",
       "      <th>cal_labels</th>\n",
       "    </tr>\n",
       "  </thead>\n",
       "  <tbody>\n",
       "    <tr>\n",
       "      <th>0</th>\n",
       "      <td>1</td>\n",
       "      <td>0.150923</td>\n",
       "      <td>0.349930</td>\n",
       "      <td>0.384060</td>\n",
       "      <td>0.115087</td>\n",
       "      <td>2</td>\n",
       "    </tr>\n",
       "    <tr>\n",
       "      <th>1</th>\n",
       "      <td>4</td>\n",
       "      <td>0.039051</td>\n",
       "      <td>0.180906</td>\n",
       "      <td>0.765951</td>\n",
       "      <td>0.014092</td>\n",
       "      <td>2</td>\n",
       "    </tr>\n",
       "    <tr>\n",
       "      <th>2</th>\n",
       "      <td>6</td>\n",
       "      <td>0.639557</td>\n",
       "      <td>0.172963</td>\n",
       "      <td>0.006057</td>\n",
       "      <td>0.181422</td>\n",
       "      <td>1</td>\n",
       "    </tr>\n",
       "    <tr>\n",
       "      <th>3</th>\n",
       "      <td>7</td>\n",
       "      <td>0.192730</td>\n",
       "      <td>0.313367</td>\n",
       "      <td>0.155514</td>\n",
       "      <td>0.338389</td>\n",
       "      <td>1</td>\n",
       "    </tr>\n",
       "    <tr>\n",
       "      <th>4</th>\n",
       "      <td>8</td>\n",
       "      <td>0.088407</td>\n",
       "      <td>0.104308</td>\n",
       "      <td>0.020772</td>\n",
       "      <td>0.786513</td>\n",
       "      <td>4</td>\n",
       "    </tr>\n",
       "  </tbody>\n",
       "</table>\n",
       "</div>"
      ],
      "text/plain": [
       "   Unnamed: 0        X1        X2        X3        X4  cal_labels\n",
       "0           1  0.150923  0.349930  0.384060  0.115087           2\n",
       "1           4  0.039051  0.180906  0.765951  0.014092           2\n",
       "2           6  0.639557  0.172963  0.006057  0.181422           1\n",
       "3           7  0.192730  0.313367  0.155514  0.338389           1\n",
       "4           8  0.088407  0.104308  0.020772  0.786513           4"
      ]
     },
     "execution_count": 61,
     "metadata": {},
     "output_type": "execute_result"
    }
   ],
   "source": [
    "df.head()"
   ]
  },
  {
   "cell_type": "code",
   "execution_count": 62,
   "metadata": {},
   "outputs": [],
   "source": [
    "def class_conditional_eval(sets, labels, classes=['neg', 'mod', 'mil', 'sev']):\n",
    "    res = collections.defaultdict()\n",
    "    for i, v in enumerate(classes):\n",
    "        class_cond_sets = sets[labels == i]\n",
    "        n = class_cond_sets.shape[0]\n",
    "        res[v] = {\n",
    "            'count': n,\n",
    "            'coverage': (class_cond_sets[np.arange(n), i].sum() / n) if n > 0 else 0,\n",
    "            'size': class_cond_sets.sum(1).mean(),\n",
    "        }\n",
    "    return res\n",
    "\n",
    "def size_conditional_eval(sets, labels, sizes=[1, 2, 3, 4]):\n",
    "    res = collections.defaultdict()\n",
    "    for i, v in enumerate(sizes):\n",
    "        size_cond_sets = sets[sets.sum(1) == v]\n",
    "        n = size_cond_sets.shape[0]\n",
    "        res[v] = {\n",
    "            'count': n,\n",
    "            'coverage': (size_cond_sets[np.arange(n), i].sum() / n) if n > 0 else 0,\n",
    "        }\n",
    "    return res"
   ]
  },
  {
   "cell_type": "code",
   "execution_count": 63,
   "metadata": {},
   "outputs": [],
   "source": [
    "alpha_aps_overall_coverage = collections.defaultdict(list)\n",
    "alpha_aps_overall_size = collections.defaultdict(list)\n",
    "\n",
    "alpha_aps_class_cond_count = collections.defaultdict(list)\n",
    "alpha_aps_class_cond_coverage = collections.defaultdict(list)\n",
    "alpha_aps_class_cond_size = collections.defaultdict(list)\n",
    "alpha_aps_size_cond_count = collections.defaultdict(list)\n",
    "alpha_aps_size_cond_coverage = collections.defaultdict(list)"
   ]
  },
  {
   "cell_type": "code",
   "execution_count": 64,
   "metadata": {},
   "outputs": [],
   "source": [
    "for alpha in alphas:\n",
    "    \n",
    "    aps_overall_coverage = []\n",
    "    aps_overall_size = []\n",
    "\n",
    "    aps_class_cond_count = collections.defaultdict(list)\n",
    "    aps_class_cond_coverage = collections.defaultdict(list)\n",
    "    aps_class_cond_size = collections.defaultdict(list)\n",
    "    aps_size_cond_count = collections.defaultdict(list)\n",
    "    aps_size_cond_coverage = collections.defaultdict(list)\n",
    "    aps_size_cond_size = collections.defaultdict(list)\n",
    "    for trial in range(num_trials):\n",
    "        \n",
    "        df_cal = df.sample(frac=cal_percent)\n",
    "        df_val = df.drop(df_cal.index)\n",
    "        df_cal = df_cal.values\n",
    "        df_val = df_val.values\n",
    "        cal_scores = df_cal[:,1:5]\n",
    "        val_scores = df_val[:,1:5]\n",
    "        cal_labels = df_cal[:,5]-1\n",
    "        val_labels = df_val[:,5]-1\n",
    "        cal_labels = cal_labels.astype('int32')\n",
    "        val_labels = val_labels.astype('int32')\n",
    "        \n",
    "        \n",
    "            \n",
    "        # Ordinal APS\n",
    "        aps_qhat = conformal_demo.get_qhat_ordinal_aps(\n",
    "            conformal_demo.ordinal_aps_prediction,\n",
    "            np.copy(cal_scores),\n",
    "            np.copy(cal_labels),\n",
    "            alpha\n",
    "        )\n",
    "        aps_pred_sets = conformal_demo.ordinal_aps_prediction(np.copy(val_scores), aps_qhat)\n",
    "        aps_overall_coverage.append(aps_pred_sets[np.arange(val_scores.shape[0]), val_labels].sum() / val_labels.shape[0])\n",
    "        aps_overall_size.append(aps_pred_sets.sum(1).mean())\n",
    "        for _class, cond_res in class_conditional_eval(aps_pred_sets, val_labels).items():\n",
    "            aps_class_cond_count[_class].append(cond_res['count'])\n",
    "            aps_class_cond_coverage[_class].append(cond_res['coverage'])\n",
    "            aps_class_cond_size[_class].append(cond_res['size'])\n",
    "        for _size, cond_res in size_conditional_eval(aps_pred_sets, val_labels).items():\n",
    "            aps_size_cond_count[_size].append(cond_res['count'])\n",
    "            aps_size_cond_coverage[_size].append(cond_res['coverage'])\n",
    "\n",
    "    \n",
    "    alpha_aps_overall_coverage[alpha] = aps_overall_coverage\n",
    "    alpha_aps_overall_size[alpha] = aps_overall_size\n",
    "        \n",
    "    alpha_aps_class_cond_count[alpha] = aps_class_cond_count\n",
    "    alpha_aps_class_cond_coverage[alpha] = aps_class_cond_coverage\n",
    "    alpha_aps_class_cond_size[alpha] = aps_class_cond_size\n",
    "    alpha_aps_size_cond_count[alpha] = aps_size_cond_count\n",
    "    alpha_aps_size_cond_coverage[alpha] = aps_size_cond_coverage"
   ]
  },
  {
   "cell_type": "code",
   "execution_count": 65,
   "metadata": {},
   "outputs": [],
   "source": [
    "aps_agg_coverage = np.array(list(alpha_aps_overall_coverage.values()))\n",
    "aps_agg_size = np.array(list(alpha_aps_overall_size.values()))"
   ]
  },
  {
   "cell_type": "code",
   "execution_count": 66,
   "metadata": {},
   "outputs": [],
   "source": [
    "aps_agg_cvg=[]\n",
    "for x in aps_agg_coverage:\n",
    "    aps_agg_cvg.append(x.mean())"
   ]
  },
  {
   "cell_type": "code",
   "execution_count": 67,
   "metadata": {},
   "outputs": [
    {
     "data": {
      "text/plain": [
       "[1.0,\n",
       " 0.9897660818713451,\n",
       " 0.9853801169590642,\n",
       " 0.9678362573099415,\n",
       " 0.955263157894737,\n",
       " 0.9552631578947368,\n",
       " 0.9394736842105263,\n",
       " 0.9251461988304092,\n",
       " 0.9225146198830408,\n",
       " 0.9058479532163742,\n",
       " 0.9032163742690058,\n",
       " 0.8964912280701753,\n",
       " 0.8801169590643274,\n",
       " 0.8807017543859649,\n",
       " 0.8640350877192983,\n",
       " 0.8538011695906433,\n",
       " 0.854970760233918,\n",
       " 0.8210526315789475,\n",
       " 0.8160818713450292,\n",
       " 0.7929824561403508]"
      ]
     },
     "execution_count": 67,
     "metadata": {},
     "output_type": "execute_result"
    }
   ],
   "source": [
    "aps_agg_cvg"
   ]
  },
  {
   "cell_type": "code",
   "execution_count": 68,
   "metadata": {},
   "outputs": [
    {
     "data": {
      "text/plain": [
       "[3.9859649122807013,\n",
       " 3.6131578947368426,\n",
       " 3.4985380116959064,\n",
       " 3.3058479532163743,\n",
       " 3.2219298245614034,\n",
       " 3.2026315789473685,\n",
       " 3.1108187134502923,\n",
       " 3.0514619883040934,\n",
       " 3.022514619883041,\n",
       " 2.962573099415205,\n",
       " 2.9257309941520466,\n",
       " 2.910818713450292,\n",
       " 2.817836257309941,\n",
       " 2.826315789473685,\n",
       " 2.739181286549708,\n",
       " 2.6631578947368424,\n",
       " 2.651169590643275,\n",
       " 2.4997076023391815,\n",
       " 2.4713450292397656,\n",
       " 2.3929824561403508]"
      ]
     },
     "execution_count": 68,
     "metadata": {},
     "output_type": "execute_result"
    }
   ],
   "source": [
    "aps_agg_set_size=[]\n",
    "for x in aps_agg_size:\n",
    "    aps_agg_set_size.append(x.mean())\n",
    "aps_agg_set_size"
   ]
  },
  {
   "cell_type": "code",
   "execution_count": 69,
   "metadata": {},
   "outputs": [],
   "source": [
    "aps_sev_coverage = np.array([alpha_aps_class_cond_coverage[alpha]['sev'] for alpha in alphas])\n",
    "aps_mod_coverage = np.array([alpha_aps_class_cond_coverage[alpha]['mod'] for alpha in alphas])\n",
    "aps_mil_coverage = np.array([alpha_aps_class_cond_coverage[alpha]['mil'] for alpha in alphas])\n",
    "aps_neg_coverage = np.array([alpha_aps_class_cond_coverage[alpha]['neg'] for alpha in alphas])"
   ]
  },
  {
   "cell_type": "code",
   "execution_count": 70,
   "metadata": {},
   "outputs": [
    {
     "data": {
      "text/plain": [
       "[1.0,\n",
       " 0.9977883675464321,\n",
       " 0.9936382627854938,\n",
       " 0.9654044686349561,\n",
       " 0.9508122918568036,\n",
       " 0.9531242347327493,\n",
       " 0.9258135332682766,\n",
       " 0.8996399947094315,\n",
       " 0.8945678829398229,\n",
       " 0.875515140210533,\n",
       " 0.8710779248171108,\n",
       " 0.8632774916833575,\n",
       " 0.8498310044704713,\n",
       " 0.8343308785128022,\n",
       " 0.8081876192143669,\n",
       " 0.8006293671824135,\n",
       " 0.8034072356722479,\n",
       " 0.7654318475410117,\n",
       " 0.7690216541633867,\n",
       " 0.7471316544668876]"
      ]
     },
     "execution_count": 70,
     "metadata": {},
     "output_type": "execute_result"
    }
   ],
   "source": [
    "aps_neg_cvg = []\n",
    "for x in aps_neg_coverage:\n",
    "    aps_neg_cvg.append(x.mean())\n",
    "aps_neg_cvg"
   ]
  },
  {
   "cell_type": "code",
   "execution_count": 71,
   "metadata": {},
   "outputs": [
    {
     "data": {
      "text/plain": [
       "[1.0,\n",
       " 1.0,\n",
       " 1.0,\n",
       " 1.0,\n",
       " 1.0,\n",
       " 1.0,\n",
       " 1.0,\n",
       " 1.0,\n",
       " 1.0,\n",
       " 1.0,\n",
       " 1.0,\n",
       " 1.0,\n",
       " 1.0,\n",
       " 1.0,\n",
       " 1.0,\n",
       " 1.0,\n",
       " 1.0,\n",
       " 1.0,\n",
       " 0.9989473684210527,\n",
       " 0.9943992689419938]"
      ]
     },
     "execution_count": 71,
     "metadata": {},
     "output_type": "execute_result"
    }
   ],
   "source": [
    "aps_mil_cvg = []\n",
    "for x in aps_mil_coverage:\n",
    "    aps_mil_cvg.append(x.mean())\n",
    "aps_mil_cvg"
   ]
  },
  {
   "cell_type": "code",
   "execution_count": 72,
   "metadata": {},
   "outputs": [
    {
     "data": {
      "text/plain": [
       "[1.0,\n",
       " 0.9818240333904349,\n",
       " 0.968607985944692,\n",
       " 0.9539413616291551,\n",
       " 0.9450731614269895,\n",
       " 0.9441124241413583,\n",
       " 0.9342393948758249,\n",
       " 0.9187881242828324,\n",
       " 0.9126106498381661,\n",
       " 0.9031929243534098,\n",
       " 0.9032117727991895,\n",
       " 0.9017656140763108,\n",
       " 0.8723237603973999,\n",
       " 0.8905557833944464,\n",
       " 0.8696474432067601,\n",
       " 0.8607197642714108,\n",
       " 0.867383026318097,\n",
       " 0.8419375735513531,\n",
       " 0.8302017951669587,\n",
       " 0.8122116579785658]"
      ]
     },
     "execution_count": 72,
     "metadata": {},
     "output_type": "execute_result"
    }
   ],
   "source": [
    "aps_mod_cvg = []\n",
    "for x in aps_mod_coverage:\n",
    "    aps_mod_cvg.append(x.mean())\n",
    "aps_mod_cvg"
   ]
  },
  {
   "cell_type": "code",
   "execution_count": 73,
   "metadata": {},
   "outputs": [
    {
     "data": {
      "text/plain": [
       "[1.0,\n",
       " 0.9767624687025631,\n",
       " 0.9743363728240189,\n",
       " 0.9475490831200112,\n",
       " 0.9201321502773944,\n",
       " 0.9170628923993481,\n",
       " 0.8912541473719351,\n",
       " 0.8731465995382959,\n",
       " 0.8735522361454408,\n",
       " 0.8367742284772595,\n",
       " 0.8297291709040178,\n",
       " 0.815481700072367,\n",
       " 0.7840131236637672,\n",
       " 0.7868124041286821,\n",
       " 0.7684024538756248,\n",
       " 0.7319658795271187,\n",
       " 0.7330397797096886,\n",
       " 0.6587511673884522,\n",
       " 0.6542688807961775,\n",
       " 0.5999509110266862]"
      ]
     },
     "execution_count": 73,
     "metadata": {},
     "output_type": "execute_result"
    }
   ],
   "source": [
    "aps_sev_cvg = []\n",
    "for x in aps_sev_coverage:\n",
    "    aps_sev_cvg.append(x.mean())\n",
    "aps_sev_cvg"
   ]
  },
  {
   "cell_type": "code",
   "execution_count": null,
   "metadata": {},
   "outputs": [],
   "source": []
  }
 ],
 "metadata": {
  "kernelspec": {
   "display_name": "Python 3",
   "language": "python",
   "name": "python3"
  },
  "language_info": {
   "codemirror_mode": {
    "name": "ipython",
    "version": 3
   },
   "file_extension": ".py",
   "mimetype": "text/x-python",
   "name": "python",
   "nbconvert_exporter": "python",
   "pygments_lexer": "ipython3",
   "version": "3.7.6"
  }
 },
 "nbformat": 4,
 "nbformat_minor": 4
}
