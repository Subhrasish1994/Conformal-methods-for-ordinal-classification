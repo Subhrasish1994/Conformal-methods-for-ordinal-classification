{
 "cells": [
  {
   "cell_type": "code",
   "execution_count": 2,
   "id": "7d231a3f",
   "metadata": {},
   "outputs": [],
   "source": [
    "import csv\n",
    "import pdb\n",
    "import numpy as np\n",
    "import random\n",
    "random.seed(2000)\n",
    "import ast\n",
    "import os\n",
    "import collections\n",
    "from importlib import reload\n",
    "import pandas as pd\n",
    "import matplotlib.pyplot as plt\n",
    "import matplotlib.ticker as mtick\n",
    "from matplotlib import cm\n",
    "from matplotlib.colors import LightSource\n",
    "import scipy.stats"
   ]
  },
  {
   "cell_type": "code",
   "execution_count": 3,
   "id": "ea781fbb",
   "metadata": {},
   "outputs": [
    {
     "data": {
      "text/plain": [
       "'/Users/subhrasishchakraborty/Desktop'"
      ]
     },
     "execution_count": 3,
     "metadata": {},
     "output_type": "execute_result"
    }
   ],
   "source": [
    "os.getcwd()"
   ]
  },
  {
   "cell_type": "code",
   "execution_count": 4,
   "id": "54890e99",
   "metadata": {},
   "outputs": [],
   "source": [
    "os.chdir('/Users/subhrasishchakraborty/Desktop/lumbar-conformal-main/scripts')\n",
    "import conformal_demo"
   ]
  },
  {
   "cell_type": "code",
   "execution_count": 5,
   "id": "02d07c16",
   "metadata": {},
   "outputs": [],
   "source": [
    "num_trials=10\n",
    "#alphas = np.array([0.01,0.05,0.1,0.15,0.2])\n",
    "alphas = np.arange(0.01,0.21,0.01)\n",
    "cal_percent = 0.35"
   ]
  },
  {
   "cell_type": "code",
   "execution_count": 7,
   "id": "0092a566",
   "metadata": {},
   "outputs": [],
   "source": [
    "df = pd.read_csv('/Users/subhrasishchakraborty/Desktop/mydata.csv')"
   ]
  },
  {
   "cell_type": "code",
   "execution_count": 8,
   "id": "05121984",
   "metadata": {},
   "outputs": [
    {
     "data": {
      "text/html": [
       "<div>\n",
       "<style scoped>\n",
       "    .dataframe tbody tr th:only-of-type {\n",
       "        vertical-align: middle;\n",
       "    }\n",
       "\n",
       "    .dataframe tbody tr th {\n",
       "        vertical-align: top;\n",
       "    }\n",
       "\n",
       "    .dataframe thead th {\n",
       "        text-align: right;\n",
       "    }\n",
       "</style>\n",
       "<table border=\"1\" class=\"dataframe\">\n",
       "  <thead>\n",
       "    <tr style=\"text-align: right;\">\n",
       "      <th></th>\n",
       "      <th>Unnamed: 0</th>\n",
       "      <th>X1</th>\n",
       "      <th>X2</th>\n",
       "      <th>X3</th>\n",
       "      <th>cal_labels</th>\n",
       "    </tr>\n",
       "  </thead>\n",
       "  <tbody>\n",
       "    <tr>\n",
       "      <th>0</th>\n",
       "      <td>3</td>\n",
       "      <td>0.000959</td>\n",
       "      <td>0.023537</td>\n",
       "      <td>0.975504</td>\n",
       "      <td>3</td>\n",
       "    </tr>\n",
       "    <tr>\n",
       "      <th>1</th>\n",
       "      <td>5</td>\n",
       "      <td>0.000187</td>\n",
       "      <td>0.013703</td>\n",
       "      <td>0.986111</td>\n",
       "      <td>3</td>\n",
       "    </tr>\n",
       "    <tr>\n",
       "      <th>2</th>\n",
       "      <td>6</td>\n",
       "      <td>0.001539</td>\n",
       "      <td>0.027498</td>\n",
       "      <td>0.970963</td>\n",
       "      <td>3</td>\n",
       "    </tr>\n",
       "    <tr>\n",
       "      <th>3</th>\n",
       "      <td>7</td>\n",
       "      <td>0.002468</td>\n",
       "      <td>0.032093</td>\n",
       "      <td>0.965439</td>\n",
       "      <td>3</td>\n",
       "    </tr>\n",
       "    <tr>\n",
       "      <th>4</th>\n",
       "      <td>8</td>\n",
       "      <td>0.109023</td>\n",
       "      <td>0.204537</td>\n",
       "      <td>0.686440</td>\n",
       "      <td>3</td>\n",
       "    </tr>\n",
       "  </tbody>\n",
       "</table>\n",
       "</div>"
      ],
      "text/plain": [
       "   Unnamed: 0        X1        X2        X3  cal_labels\n",
       "0           3  0.000959  0.023537  0.975504           3\n",
       "1           5  0.000187  0.013703  0.986111           3\n",
       "2           6  0.001539  0.027498  0.970963           3\n",
       "3           7  0.002468  0.032093  0.965439           3\n",
       "4           8  0.109023  0.204537  0.686440           3"
      ]
     },
     "execution_count": 8,
     "metadata": {},
     "output_type": "execute_result"
    }
   ],
   "source": [
    "df.head()"
   ]
  },
  {
   "cell_type": "code",
   "execution_count": 9,
   "id": "11841ca6",
   "metadata": {},
   "outputs": [],
   "source": [
    "def class_conditional_eval(sets, labels, classes=['mod', 'mil', 'sev']):\n",
    "    res = collections.defaultdict()\n",
    "    for i, v in enumerate(classes):\n",
    "        class_cond_sets = sets[labels == i]\n",
    "        n = class_cond_sets.shape[0]\n",
    "        res[v] = {\n",
    "            'count': n,\n",
    "            'coverage': (class_cond_sets[np.arange(n), i].sum() / n) if n > 0 else 0,\n",
    "            'size': class_cond_sets.sum(1).mean(),\n",
    "        }\n",
    "    return res\n",
    "\n",
    "def size_conditional_eval(sets, labels, sizes=[1, 2, 3]):\n",
    "    res = collections.defaultdict()\n",
    "    for i, v in enumerate(sizes):\n",
    "        size_cond_sets = sets[sets.sum(1) == v]\n",
    "        n = size_cond_sets.shape[0]\n",
    "        res[v] = {\n",
    "            'count': n,\n",
    "            'coverage': (size_cond_sets[np.arange(n), i].sum() / n) if n > 0 else 0,\n",
    "        }\n",
    "    return res"
   ]
  },
  {
   "cell_type": "code",
   "execution_count": 10,
   "id": "1168ed64",
   "metadata": {},
   "outputs": [],
   "source": [
    "alpha_aps_overall_coverage = collections.defaultdict(list)\n",
    "alpha_aps_overall_size = collections.defaultdict(list)\n",
    "\n",
    "alpha_aps_class_cond_count = collections.defaultdict(list)\n",
    "alpha_aps_class_cond_coverage = collections.defaultdict(list)\n",
    "alpha_aps_class_cond_size = collections.defaultdict(list)\n",
    "alpha_aps_size_cond_count = collections.defaultdict(list)\n",
    "alpha_aps_size_cond_coverage = collections.defaultdict(list)"
   ]
  },
  {
   "cell_type": "code",
   "execution_count": 12,
   "id": "5e94eb48",
   "metadata": {},
   "outputs": [
    {
     "name": "stderr",
     "output_type": "stream",
     "text": [
      "/Users/subhrasishchakraborty/Desktop/lumbar-conformal-main/scripts/conformal_demo.py:120: RuntimeWarning: Mean of empty slice.\n",
      "  covered[val_labels == j].mean() for j in range(np.unique(val_labels).max() + 1)\n",
      "/Users/subhrasishchakraborty/miniforge3/lib/python3.9/site-packages/numpy/core/_methods.py:189: RuntimeWarning: invalid value encountered in double_scalars\n",
      "  ret = ret.dtype.type(ret / rcount)\n"
     ]
    }
   ],
   "source": [
    "for alpha in alphas:\n",
    "    \n",
    "    aps_overall_coverage = []\n",
    "    aps_overall_size = []\n",
    "\n",
    "    aps_class_cond_count = collections.defaultdict(list)\n",
    "    aps_class_cond_coverage = collections.defaultdict(list)\n",
    "    aps_class_cond_size = collections.defaultdict(list)\n",
    "    aps_size_cond_count = collections.defaultdict(list)\n",
    "    aps_size_cond_coverage = collections.defaultdict(list)\n",
    "    aps_size_cond_size = collections.defaultdict(list)\n",
    "    for trial in range(num_trials):\n",
    "        \n",
    "        df_cal = df.sample(frac=cal_percent)\n",
    "        df_val = df.drop(df_cal.index)\n",
    "        df_cal = df_cal.values\n",
    "        df_val = df_val.values\n",
    "        cal_scores = df_cal[:,1:4]\n",
    "        val_scores = df_val[:,1:4]\n",
    "        cal_labels = df_cal[:,4]-1\n",
    "        val_labels = df_val[:,4]-1\n",
    "        cal_labels = cal_labels.astype('int32')\n",
    "        val_labels = val_labels.astype('int32')\n",
    "        \n",
    "        \n",
    "            \n",
    "        # Ordinal APS\n",
    "        aps_qhat = conformal_demo.get_qhat_ordinal_aps(\n",
    "            conformal_demo.ordinal_aps_prediction,\n",
    "            np.copy(cal_scores),\n",
    "            np.copy(cal_labels),\n",
    "            alpha\n",
    "        )\n",
    "        aps_pred_sets = conformal_demo.ordinal_aps_prediction(np.copy(val_scores), aps_qhat)\n",
    "        aps_overall_coverage.append(aps_pred_sets[np.arange(val_scores.shape[0]), val_labels].sum() / val_labels.shape[0])\n",
    "        aps_overall_size.append(aps_pred_sets.sum(1).mean())\n",
    "        for _class, cond_res in class_conditional_eval(aps_pred_sets, val_labels).items():\n",
    "            aps_class_cond_count[_class].append(cond_res['count'])\n",
    "            aps_class_cond_coverage[_class].append(cond_res['coverage'])\n",
    "            aps_class_cond_size[_class].append(cond_res['size'])\n",
    "        for _size, cond_res in size_conditional_eval(aps_pred_sets, val_labels).items():\n",
    "            aps_size_cond_count[_size].append(cond_res['count'])\n",
    "            aps_size_cond_coverage[_size].append(cond_res['coverage'])\n",
    "\n",
    "    \n",
    "    alpha_aps_overall_coverage[alpha] = aps_overall_coverage\n",
    "    alpha_aps_overall_size[alpha] = aps_overall_size\n",
    "        \n",
    "    alpha_aps_class_cond_count[alpha] = aps_class_cond_count\n",
    "    alpha_aps_class_cond_coverage[alpha] = aps_class_cond_coverage\n",
    "    alpha_aps_class_cond_size[alpha] = aps_class_cond_size\n",
    "    alpha_aps_size_cond_count[alpha] = aps_size_cond_count\n",
    "    alpha_aps_size_cond_coverage[alpha] = aps_size_cond_coverage"
   ]
  },
  {
   "cell_type": "code",
   "execution_count": 13,
   "id": "986d3875",
   "metadata": {},
   "outputs": [],
   "source": [
    "aps_agg_coverage = np.array(list(alpha_aps_overall_coverage.values()))\n",
    "aps_agg_size = np.array(list(alpha_aps_overall_size.values()))"
   ]
  },
  {
   "cell_type": "code",
   "execution_count": 14,
   "id": "fd21048b",
   "metadata": {},
   "outputs": [],
   "source": [
    "aps_agg_cvg=[]\n",
    "for x in aps_agg_coverage:\n",
    "    aps_agg_cvg.append(x.mean())"
   ]
  },
  {
   "cell_type": "code",
   "execution_count": 24,
   "id": "2ec367f9",
   "metadata": {},
   "outputs": [],
   "source": [
    "aps_agg_set_size=[]\n",
    "for x in aps_agg_size:\n",
    "    aps_agg_set_size.append(x.mean())"
   ]
  },
  {
   "cell_type": "code",
   "execution_count": 17,
   "id": "8e0d51b1",
   "metadata": {},
   "outputs": [],
   "source": [
    "aps_sev_coverage = np.array([alpha_aps_class_cond_coverage[alpha]['sev'] for alpha in alphas])\n",
    "aps_mod_coverage = np.array([alpha_aps_class_cond_coverage[alpha]['mod'] for alpha in alphas])\n",
    "aps_mil_coverage = np.array([alpha_aps_class_cond_coverage[alpha]['mil'] for alpha in alphas])"
   ]
  },
  {
   "cell_type": "code",
   "execution_count": 23,
   "id": "f3b1c18f",
   "metadata": {},
   "outputs": [],
   "source": [
    "aps_mil_cvg = []\n",
    "for x in aps_mil_coverage:\n",
    "    aps_mil_cvg.append(x.mean())"
   ]
  },
  {
   "cell_type": "code",
   "execution_count": 22,
   "id": "d17c69a3",
   "metadata": {},
   "outputs": [],
   "source": [
    "aps_mod_cvg = []\n",
    "for x in aps_mod_coverage:\n",
    "    aps_mod_cvg.append(x.mean())"
   ]
  },
  {
   "cell_type": "code",
   "execution_count": 21,
   "id": "d24b687c",
   "metadata": {},
   "outputs": [],
   "source": [
    "aps_sev_cvg = []\n",
    "for x in aps_sev_coverage:\n",
    "    aps_sev_cvg.append(x.mean())"
   ]
  },
  {
   "cell_type": "code",
   "execution_count": null,
   "id": "81193da2",
   "metadata": {},
   "outputs": [],
   "source": []
  }
 ],
 "metadata": {
  "kernelspec": {
   "display_name": "Python 3 (ipykernel)",
   "language": "python",
   "name": "python3"
  },
  "language_info": {
   "codemirror_mode": {
    "name": "ipython",
    "version": 3
   },
   "file_extension": ".py",
   "mimetype": "text/x-python",
   "name": "python",
   "nbconvert_exporter": "python",
   "pygments_lexer": "ipython3",
   "version": "3.9.10"
  }
 },
 "nbformat": 4,
 "nbformat_minor": 5
}
