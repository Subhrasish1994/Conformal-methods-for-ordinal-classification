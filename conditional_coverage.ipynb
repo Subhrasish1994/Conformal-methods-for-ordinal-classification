{
 "cells": [
  {
   "cell_type": "code",
   "execution_count": 227,
   "id": "f37bfad4",
   "metadata": {},
   "outputs": [],
   "source": [
    "import csv\n",
    "import pdb\n",
    "import numpy as np\n",
    "import random\n",
    "random.seed(1000)\n",
    "import ast\n",
    "import os\n",
    "import collections\n",
    "from importlib import reload\n",
    "import pandas as pd\n",
    "import numpy as np\n",
    "import matplotlib.pyplot as plt\n",
    "import matplotlib.ticker as mtick\n",
    "from matplotlib import cm\n",
    "from matplotlib.colors import LightSource\n",
    "import scipy.stats"
   ]
  },
  {
   "cell_type": "code",
   "execution_count": 542,
   "id": "554a9c47",
   "metadata": {},
   "outputs": [
    {
     "data": {
      "text/plain": [
       "'/Users/subhrasishchakraborty/Desktop/lumbar-conformal-main/scripts'"
      ]
     },
     "execution_count": 542,
     "metadata": {},
     "output_type": "execute_result"
    }
   ],
   "source": [
    "os.getcwd()"
   ]
  },
  {
   "cell_type": "code",
   "execution_count": 543,
   "id": "6cc1eef4",
   "metadata": {},
   "outputs": [],
   "source": [
    "os.chdir('/Users/subhrasishchakraborty/Desktop/lumbar-conformal-main/scripts')\n",
    "import conformal_demo"
   ]
  },
  {
   "cell_type": "code",
   "execution_count": 544,
   "id": "fd2142ea",
   "metadata": {},
   "outputs": [],
   "source": [
    "num_trials = 10\n",
    "alphas = np.array([0.01, 0.05, 0.10, 0.15, 0.2])\n",
    "cal_percent = 0.05"
   ]
  },
  {
   "cell_type": "code",
   "execution_count": 545,
   "id": "3d42c4fc",
   "metadata": {},
   "outputs": [],
   "source": [
    "#df_cal = pd.read_csv('/Users/subhrasishchakraborty/Desktop/calibration_data.csv')\n",
    "#df_val = pd.read_csv('/Users/subhrasishchakraborty/Desktop/validation_data.csv')\n",
    "#df_cal = df_cal.values\n",
    "#df_val = df_val.values\n",
    "df = pd.read_csv('/Users/subhrasishchakraborty/Desktop/data.csv')"
   ]
  },
  {
   "cell_type": "code",
   "execution_count": 546,
   "id": "d9e0f282",
   "metadata": {},
   "outputs": [
    {
     "data": {
      "text/html": [
       "<div>\n",
       "<style scoped>\n",
       "    .dataframe tbody tr th:only-of-type {\n",
       "        vertical-align: middle;\n",
       "    }\n",
       "\n",
       "    .dataframe tbody tr th {\n",
       "        vertical-align: top;\n",
       "    }\n",
       "\n",
       "    .dataframe thead th {\n",
       "        text-align: right;\n",
       "    }\n",
       "</style>\n",
       "<table border=\"1\" class=\"dataframe\">\n",
       "  <thead>\n",
       "    <tr style=\"text-align: right;\">\n",
       "      <th></th>\n",
       "      <th>Unnamed: 0</th>\n",
       "      <th>X3</th>\n",
       "      <th>X2</th>\n",
       "      <th>X4</th>\n",
       "      <th>X1</th>\n",
       "      <th>cal_labels</th>\n",
       "    </tr>\n",
       "  </thead>\n",
       "  <tbody>\n",
       "    <tr>\n",
       "      <th>0</th>\n",
       "      <td>9</td>\n",
       "      <td>0.058987</td>\n",
       "      <td>0.201998</td>\n",
       "      <td>0.021008</td>\n",
       "      <td>0.718008</td>\n",
       "      <td>1</td>\n",
       "    </tr>\n",
       "    <tr>\n",
       "      <th>1</th>\n",
       "      <td>58</td>\n",
       "      <td>0.164995</td>\n",
       "      <td>0.065472</td>\n",
       "      <td>0.750588</td>\n",
       "      <td>0.018944</td>\n",
       "      <td>4</td>\n",
       "    </tr>\n",
       "    <tr>\n",
       "      <th>2</th>\n",
       "      <td>90</td>\n",
       "      <td>0.309678</td>\n",
       "      <td>0.413343</td>\n",
       "      <td>0.159028</td>\n",
       "      <td>0.117951</td>\n",
       "      <td>2</td>\n",
       "    </tr>\n",
       "    <tr>\n",
       "      <th>3</th>\n",
       "      <td>110</td>\n",
       "      <td>0.128789</td>\n",
       "      <td>0.305809</td>\n",
       "      <td>0.023600</td>\n",
       "      <td>0.541802</td>\n",
       "      <td>2</td>\n",
       "    </tr>\n",
       "    <tr>\n",
       "      <th>4</th>\n",
       "      <td>123</td>\n",
       "      <td>0.291153</td>\n",
       "      <td>0.285966</td>\n",
       "      <td>0.166259</td>\n",
       "      <td>0.256622</td>\n",
       "      <td>2</td>\n",
       "    </tr>\n",
       "  </tbody>\n",
       "</table>\n",
       "</div>"
      ],
      "text/plain": [
       "   Unnamed: 0        X3        X2        X4        X1  cal_labels\n",
       "0           9  0.058987  0.201998  0.021008  0.718008           1\n",
       "1          58  0.164995  0.065472  0.750588  0.018944           4\n",
       "2          90  0.309678  0.413343  0.159028  0.117951           2\n",
       "3         110  0.128789  0.305809  0.023600  0.541802           2\n",
       "4         123  0.291153  0.285966  0.166259  0.256622           2"
      ]
     },
     "execution_count": 546,
     "metadata": {},
     "output_type": "execute_result"
    }
   ],
   "source": [
    "df.head()"
   ]
  },
  {
   "cell_type": "code",
   "execution_count": 547,
   "id": "7364079e",
   "metadata": {},
   "outputs": [
    {
     "data": {
      "text/plain": [
       "(2000, 6)"
      ]
     },
     "execution_count": 547,
     "metadata": {},
     "output_type": "execute_result"
    }
   ],
   "source": [
    "df.shape"
   ]
  },
  {
   "cell_type": "code",
   "execution_count": 548,
   "id": "082cdafa",
   "metadata": {},
   "outputs": [],
   "source": [
    "def class_conditional_eval(sets, labels, classes=['neg', 'mod', 'mil', 'sev']):\n",
    "    res = collections.defaultdict()\n",
    "    for i, v in enumerate(classes):\n",
    "        class_cond_sets = sets[labels == i]\n",
    "        n = class_cond_sets.shape[0]\n",
    "        res[v] = {\n",
    "            'count': n,\n",
    "            'coverage': (class_cond_sets[np.arange(n), i].sum() / n) if n > 0 else 0,\n",
    "            'size': class_cond_sets.sum(1).mean(),\n",
    "        }\n",
    "    return res\n",
    "\n",
    "def size_conditional_eval(sets, labels, sizes=[1, 2, 3, 4]):\n",
    "    res = collections.defaultdict()\n",
    "    for i, v in enumerate(sizes):\n",
    "        size_cond_sets = sets[sets.sum(1) == v]\n",
    "        n = size_cond_sets.shape[0]\n",
    "        res[v] = {\n",
    "            'count': n,\n",
    "            'coverage': (size_cond_sets[np.arange(n), i].sum() / n) if n > 0 else 0,\n",
    "        }\n",
    "    return res"
   ]
  },
  {
   "cell_type": "code",
   "execution_count": 549,
   "id": "ed367f3c",
   "metadata": {},
   "outputs": [],
   "source": [
    "# alpha_lac_overall_coverage = collections.defaultdict(list)\n",
    "# alpha_cdf_overall_coverage = collections.defaultdict(list)\n",
    "alpha_aps_overall_coverage = collections.defaultdict(list)\n",
    "# alpha_lac_overall_size = collections.defaultdict(list)\n",
    "# alpha_cdf_overall_size = collections.defaultdict(list)\n",
    "alpha_aps_overall_size = collections.defaultdict(list)\n",
    "\n",
    "# alpha_lac_class_cond_count = collections.defaultdict(list)\n",
    "# alpha_cdf_class_cond_count = collections.defaultdict(list)\n",
    "alpha_aps_class_cond_count = collections.defaultdict(list)\n",
    "# alpha_lac_class_cond_coverage = collections.defaultdict(list)\n",
    "# alpha_cdf_class_cond_coverage = collections.defaultdict(list)\n",
    "alpha_aps_class_cond_coverage = collections.defaultdict(list)\n",
    "# alpha_lac_class_cond_size = collections.defaultdict(list)\n",
    "# alpha_cdf_class_cond_size = collections.defaultdict(list)\n",
    "alpha_aps_class_cond_size = collections.defaultdict(list)\n",
    "# alpha_lac_size_cond_count = collections.defaultdict(list)\n",
    "# alpha_cdf_size_cond_count = collections.defaultdict(list)\n",
    "alpha_aps_size_cond_count = collections.defaultdict(list)\n",
    "# alpha_lac_size_cond_coverage = collections.defaultdict(list)\n",
    "# alpha_cdf_size_cond_coverage = collections.defaultdict(list)\n",
    "alpha_aps_size_cond_coverage = collections.defaultdict(list)"
   ]
  },
  {
   "cell_type": "code",
   "execution_count": 550,
   "id": "5a75f555",
   "metadata": {},
   "outputs": [],
   "source": [
    "for alpha in alphas:\n",
    "    #lac_overall_coverage = []\n",
    "    #cdf_overall_coverage = []\n",
    "    aps_overall_coverage = []\n",
    "    #lac_overall_size = []\n",
    "    #cdf_overall_size = []\n",
    "    aps_overall_size = []\n",
    "\n",
    "#     lac_class_cond_count = collections.defaultdict(list)\n",
    "#     cdf_class_cond_count = collections.defaultdict(list)\n",
    "    aps_class_cond_count = collections.defaultdict(list)\n",
    "#     lac_class_cond_coverage = collections.defaultdict(list)\n",
    "#     cdf_class_cond_coverage = collections.defaultdict(list)\n",
    "    aps_class_cond_coverage = collections.defaultdict(list)\n",
    "#     lac_class_cond_size = collections.defaultdict(list)\n",
    "#     cdf_class_cond_size = collections.defaultdict(list)\n",
    "    aps_class_cond_size = collections.defaultdict(list)\n",
    "#     lac_size_cond_count = collections.defaultdict(list)\n",
    "#     cdf_size_cond_count = collections.defaultdict(list)\n",
    "    aps_size_cond_count = collections.defaultdict(list)\n",
    "#     lac_size_cond_coverage = collections.defaultdict(list)\n",
    "#     cdf_size_cond_coverage = collections.defaultdict(list)\n",
    "    aps_size_cond_coverage = collections.defaultdict(list)\n",
    "#     lac_size_cond_size = collections.defaultdict(list)\n",
    "#     cdf_size_cond_size = collections.defaultdict(list)\n",
    "    aps_size_cond_size = collections.defaultdict(list)\n",
    "    for trial in range(num_trials):\n",
    "        \n",
    "        df_cal = df.sample(frac=cal_percent)\n",
    "        df_val = df.drop(df_cal.index)\n",
    "        df_cal = df_cal.values\n",
    "        df_val = df_val.values\n",
    "        cal_scores = df_cal[:,1:5]\n",
    "        val_scores = df_val[:,1:5]\n",
    "        cal_labels = df_cal[:,5]-1\n",
    "        val_labels = df_val[:,5]-1\n",
    "        cal_labels = cal_labels.astype('int32')\n",
    "        val_labels = val_labels.astype('int32')\n",
    "        \n",
    "        \n",
    "        \n",
    "        # Naive LAC\n",
    "#         lac_qhat = np.quantile(\n",
    "#             conformal_demo.lac_score_function(\n",
    "#                 np.copy(cal_scores),\n",
    "#                 np.copy(cal_labels)\n",
    "#             ),\n",
    "#             np.ceil((cal_scores.shape[0] + 1)*(1 - alpha))/cal_scores.shape[0],\n",
    "#             interpolation='higher',\n",
    "#         )\n",
    "#         lac_pred_sets = conformal_demo.lac_prediction(np.copy(val_scores), lac_qhat)\n",
    "#         lac_overall_coverage.append(lac_pred_sets[np.arange(val_scores.shape[0]), val_labels].sum() / val_labels.shape[0])\n",
    "#         lac_overall_size.append(lac_pred_sets.sum(1).mean())\n",
    "#         for _class, cond_res in class_conditional_eval(lac_pred_sets, val_labels).items():\n",
    "#             lac_class_cond_count[_class].append(cond_res['count'])\n",
    "#             lac_class_cond_coverage[_class].append(cond_res['coverage'])\n",
    "#             lac_class_cond_size[_class].append(cond_res['size'])\n",
    "#         for _size, cond_res in size_conditional_eval(lac_pred_sets, val_labels).items():\n",
    "#             lac_size_cond_count[_size].append(cond_res['count'])\n",
    "#             lac_size_cond_coverage[_size].append(cond_res['coverage'])\n",
    "        \n",
    "        # Ordinal CDF\n",
    "#         cdf_qhat = np.quantile(\n",
    "#             conformal_demo.cdf_naive_ordinal_score_function(\n",
    "#                 np.copy(cal_scores),\n",
    "#                 np.copy(cal_labels)\n",
    "#             ),\n",
    "#             np.ceil((cal_scores.shape[0] + 1)*(1 - alpha))/cal_scores.shape[0],\n",
    "#             interpolation='higher',\n",
    "#         )\n",
    "#         cdf_pred_sets = conformal_demo.cdf_naive_ordinal_prediction(np.copy(val_scores), cdf_qhat)\n",
    "#         cdf_overall_coverage.append(cdf_pred_sets[np.arange(val_scores.shape[0]), val_labels].sum() / val_labels.shape[0])\n",
    "#         cdf_overall_size.append(cdf_pred_sets.sum(1).mean())\n",
    "        \n",
    "#         for _class, cond_res in class_conditional_eval(cdf_pred_sets, val_labels).items():\n",
    "#             cdf_class_cond_count[_class].append(cond_res['count'])\n",
    "#             cdf_class_cond_coverage[_class].append(cond_res['coverage'])\n",
    "#             cdf_class_cond_size[_class].append(cond_res['size'])\n",
    "#         for _size, cond_res in size_conditional_eval(cdf_pred_sets, val_labels).items():\n",
    "#             cdf_size_cond_count[_size].append(cond_res['count'])\n",
    "#             cdf_size_cond_coverage[_size].append(cond_res['coverage'])\n",
    "            \n",
    "        # Ordinal APS\n",
    "        aps_qhat = conformal_demo.get_qhat_ordinal_aps(\n",
    "            conformal_demo.ordinal_aps_prediction,\n",
    "            np.copy(cal_scores),\n",
    "            np.copy(cal_labels),\n",
    "            alpha\n",
    "        )\n",
    "        aps_pred_sets = conformal_demo.ordinal_aps_prediction(np.copy(val_scores), aps_qhat)\n",
    "        aps_overall_coverage.append(aps_pred_sets[np.arange(val_scores.shape[0]), val_labels].sum() / val_labels.shape[0])\n",
    "        aps_overall_size.append(aps_pred_sets.sum(1).mean())\n",
    "        for _class, cond_res in class_conditional_eval(aps_pred_sets, val_labels).items():\n",
    "            aps_class_cond_count[_class].append(cond_res['count'])\n",
    "            aps_class_cond_coverage[_class].append(cond_res['coverage'])\n",
    "            aps_class_cond_size[_class].append(cond_res['size'])\n",
    "        for _size, cond_res in size_conditional_eval(aps_pred_sets, val_labels).items():\n",
    "            aps_size_cond_count[_size].append(cond_res['count'])\n",
    "            aps_size_cond_coverage[_size].append(cond_res['coverage'])\n",
    "\n",
    "#     alpha_lac_overall_coverage[alpha] = lac_overall_coverage\n",
    "#     alpha_cdf_overall_coverage[alpha] = cdf_overall_coverage\n",
    "    alpha_aps_overall_coverage[alpha] = aps_overall_coverage\n",
    "#     alpha_lac_overall_size[alpha] = lac_overall_size\n",
    "#     alpha_cdf_overall_size[alpha] = cdf_overall_size\n",
    "    alpha_aps_overall_size[alpha] = aps_overall_size\n",
    "        \n",
    "#     alpha_lac_class_cond_count[alpha] = lac_class_cond_count\n",
    "#     alpha_cdf_class_cond_count[alpha] = cdf_class_cond_count\n",
    "    alpha_aps_class_cond_count[alpha] = aps_class_cond_count\n",
    "#     alpha_lac_class_cond_coverage[alpha] = lac_class_cond_coverage\n",
    "#     alpha_cdf_class_cond_coverage[alpha] = cdf_class_cond_coverage\n",
    "    alpha_aps_class_cond_coverage[alpha] = aps_class_cond_coverage\n",
    "#     alpha_lac_class_cond_size[alpha] = lac_class_cond_size\n",
    "#     alpha_cdf_class_cond_size[alpha] = cdf_class_cond_size\n",
    "    alpha_aps_class_cond_size[alpha] = aps_class_cond_size\n",
    "#     alpha_lac_size_cond_count[alpha] = lac_size_cond_count\n",
    "#     alpha_cdf_size_cond_count[alpha] = cdf_size_cond_count\n",
    "    alpha_aps_size_cond_count[alpha] = aps_size_cond_count\n",
    "#     alpha_lac_size_cond_coverage[alpha] = lac_size_cond_coverage\n",
    "#     alpha_cdf_size_cond_coverage[alpha] = cdf_size_cond_coverage\n",
    "    alpha_aps_size_cond_coverage[alpha] = aps_size_cond_coverage"
   ]
  },
  {
   "cell_type": "code",
   "execution_count": 551,
   "id": "13e5674f",
   "metadata": {},
   "outputs": [
    {
     "data": {
      "text/plain": [
       "0.2"
      ]
     },
     "execution_count": 551,
     "metadata": {},
     "output_type": "execute_result"
    }
   ],
   "source": [
    "alpha"
   ]
  },
  {
   "cell_type": "code",
   "execution_count": 552,
   "id": "64a5a53a",
   "metadata": {},
   "outputs": [
    {
     "data": {
      "text/plain": [
       "0.9312292229222922"
      ]
     },
     "execution_count": 552,
     "metadata": {},
     "output_type": "execute_result"
    }
   ],
   "source": [
    "conformal_demo.get_qhat_ordinal_aps(\n",
    "            conformal_demo.ordinal_aps_prediction,\n",
    "            np.copy(cal_scores),\n",
    "            np.copy(cal_labels),\n",
    "            0.3\n",
    "        )"
   ]
  },
  {
   "cell_type": "code",
   "execution_count": 553,
   "id": "d4ea5882",
   "metadata": {},
   "outputs": [
    {
     "data": {
      "text/plain": [
       "array([[0.35331951, 0.39139019, 0.1376992 , 0.1175911 ],\n",
       "       [0.40704626, 0.30213158, 0.24611872, 0.04470345],\n",
       "       [0.3230599 , 0.22845381, 0.39870435, 0.04978194],\n",
       "       [0.24423044, 0.10174576, 0.62921612, 0.02480769],\n",
       "       [0.20869141, 0.30146966, 0.04317189, 0.44666705],\n",
       "       [0.18338341, 0.28462491, 0.0942735 , 0.43771819],\n",
       "       [0.23477978, 0.19493143, 0.51256878, 0.05772002],\n",
       "       [0.40797884, 0.23379133, 0.29543931, 0.06279052],\n",
       "       [0.18201693, 0.24791572, 0.01579958, 0.55426777],\n",
       "       [0.28767082, 0.32784006, 0.13424571, 0.25024341],\n",
       "       [0.3240368 , 0.23130406, 0.33938664, 0.1052725 ],\n",
       "       [0.30197412, 0.12849947, 0.55130394, 0.01822247],\n",
       "       [0.22096642, 0.13172165, 0.59506314, 0.0522488 ],\n",
       "       [0.09317637, 0.02938352, 0.87042247, 0.00701765],\n",
       "       [0.42105891, 0.34511433, 0.15543957, 0.07838719],\n",
       "       [0.27859671, 0.30916849, 0.34453004, 0.06770477],\n",
       "       [0.16870951, 0.05845742, 0.75951062, 0.01332244],\n",
       "       [0.29761451, 0.25686205, 0.39431378, 0.05120966],\n",
       "       [0.15898456, 0.25698448, 0.03265827, 0.55137269],\n",
       "       [0.20572331, 0.0704277 , 0.70608723, 0.01776176],\n",
       "       [0.07425782, 0.20605657, 0.01195852, 0.70772709],\n",
       "       [0.2328994 , 0.09026417, 0.65575461, 0.02108183],\n",
       "       [0.1846385 , 0.28704715, 0.02825113, 0.50006321],\n",
       "       [0.16768121, 0.05551816, 0.76279886, 0.01400177],\n",
       "       [0.28671605, 0.29350586, 0.11413725, 0.30564084],\n",
       "       [0.20620087, 0.23707418, 0.12684077, 0.42988418],\n",
       "       [0.21837027, 0.1403595 , 0.60887573, 0.03239449],\n",
       "       [0.3638187 , 0.30221872, 0.12477273, 0.20918985],\n",
       "       [0.38885665, 0.19201662, 0.37910394, 0.04002278],\n",
       "       [0.17817966, 0.05704379, 0.75627427, 0.00850228],\n",
       "       [0.10008249, 0.27284513, 0.0139035 , 0.61316888],\n",
       "       [0.32511285, 0.25839629, 0.29528759, 0.12120327],\n",
       "       [0.07157887, 0.22203629, 0.01817695, 0.68820789],\n",
       "       [0.18727071, 0.36560178, 0.0385997 , 0.40852781],\n",
       "       [0.42831075, 0.19273246, 0.32239072, 0.05656608],\n",
       "       [0.2776693 , 0.26345689, 0.03992318, 0.41895063],\n",
       "       [0.3209862 , 0.33350753, 0.171755  , 0.17375127],\n",
       "       [0.28927301, 0.23759148, 0.05778844, 0.41534707],\n",
       "       [0.07823387, 0.26285349, 0.02464282, 0.63426982],\n",
       "       [0.3715846 , 0.15594326, 0.4518178 , 0.02065435],\n",
       "       [0.36651388, 0.12731426, 0.42383458, 0.08233728],\n",
       "       [0.30314805, 0.15095583, 0.52173031, 0.02416582],\n",
       "       [0.38499996, 0.29977146, 0.25422538, 0.0610032 ],\n",
       "       [0.4393402 , 0.34119283, 0.1654931 , 0.05397386],\n",
       "       [0.3370447 , 0.12789576, 0.48853863, 0.04652091],\n",
       "       [0.15359083, 0.26371722, 0.04578225, 0.5369097 ],\n",
       "       [0.41566609, 0.1861512 , 0.20627018, 0.19191253],\n",
       "       [0.33492739, 0.27826793, 0.32388463, 0.06292005],\n",
       "       [0.18247126, 0.38838837, 0.09274515, 0.33639521],\n",
       "       [0.15207675, 0.05370204, 0.78742424, 0.00679697],\n",
       "       [0.17751592, 0.24949006, 0.02178211, 0.5512119 ],\n",
       "       [0.36342412, 0.14712748, 0.46795367, 0.02149473],\n",
       "       [0.10968985, 0.1865352 , 0.02493724, 0.67883771],\n",
       "       [0.20691242, 0.33937277, 0.08201643, 0.37169839],\n",
       "       [0.50564315, 0.27288963, 0.09570379, 0.12576344],\n",
       "       [0.39005004, 0.3193498 , 0.05207105, 0.2385291 ],\n",
       "       [0.37555856, 0.34725644, 0.19605653, 0.08112846],\n",
       "       [0.05426651, 0.1734717 , 0.02185509, 0.75040671],\n",
       "       [0.06765392, 0.19582154, 0.01257566, 0.72394888],\n",
       "       [0.06883395, 0.22006143, 0.02222714, 0.68887748],\n",
       "       [0.44217498, 0.21587058, 0.26551612, 0.07643831],\n",
       "       [0.1396775 , 0.24570311, 0.01283691, 0.60178248],\n",
       "       [0.11571797, 0.22309952, 0.01888662, 0.64229588],\n",
       "       [0.27370382, 0.2925464 , 0.01861346, 0.41513632],\n",
       "       [0.06944675, 0.16327956, 0.01323159, 0.75404209],\n",
       "       [0.35812022, 0.29311109, 0.30301559, 0.04575309],\n",
       "       [0.38559288, 0.24191729, 0.32054772, 0.0519421 ],\n",
       "       [0.2819557 , 0.19439804, 0.4905481 , 0.03309817],\n",
       "       [0.14888821, 0.06470001, 0.78014032, 0.00627145],\n",
       "       [0.32227619, 0.2281752 , 0.09352273, 0.35602587],\n",
       "       [0.18737784, 0.28322137, 0.0190311 , 0.51036969],\n",
       "       [0.28578662, 0.35920767, 0.26328486, 0.09172085],\n",
       "       [0.20991568, 0.07953568, 0.69478275, 0.01576588],\n",
       "       [0.47198225, 0.31427339, 0.09791036, 0.115834  ],\n",
       "       [0.27315983, 0.3531736 , 0.12223757, 0.251429  ],\n",
       "       [0.23001759, 0.2101889 , 0.01491837, 0.54487515],\n",
       "       [0.36537412, 0.34306548, 0.15255421, 0.13900619],\n",
       "       [0.23730172, 0.17202425, 0.42111508, 0.16955896],\n",
       "       [0.24140632, 0.30501398, 0.06919105, 0.38438865],\n",
       "       [0.17915768, 0.38747922, 0.04209821, 0.39126489],\n",
       "       [0.26940624, 0.15478297, 0.41452797, 0.16128282],\n",
       "       [0.16933889, 0.04827241, 0.7744549 , 0.00793381],\n",
       "       [0.23197415, 0.26300273, 0.05686358, 0.44815954],\n",
       "       [0.36413807, 0.28727213, 0.2947844 , 0.0538054 ],\n",
       "       [0.06766716, 0.19591083, 0.01219906, 0.72422295],\n",
       "       [0.09549818, 0.26570948, 0.0293883 , 0.60940404],\n",
       "       [0.15533648, 0.33662296, 0.0213636 , 0.48667696],\n",
       "       [0.21714811, 0.27772152, 0.04221339, 0.46291698],\n",
       "       [0.34990868, 0.24470296, 0.13853287, 0.2668555 ],\n",
       "       [0.31343787, 0.16607733, 0.505295  , 0.0151898 ],\n",
       "       [0.10205402, 0.26764847, 0.02276728, 0.60753023],\n",
       "       [0.20910392, 0.27600365, 0.01914652, 0.49574591],\n",
       "       [0.08289625, 0.18463416, 0.02782591, 0.70464369],\n",
       "       [0.10605105, 0.22545311, 0.01585684, 0.65263899],\n",
       "       [0.29044477, 0.17575094, 0.50949356, 0.02431073],\n",
       "       [0.11771691, 0.34738144, 0.02873666, 0.506165  ],\n",
       "       [0.16646562, 0.09165575, 0.72643824, 0.0154404 ],\n",
       "       [0.17975396, 0.0497908 , 0.76401943, 0.00643582],\n",
       "       [0.23230294, 0.30154468, 0.36535639, 0.10079599],\n",
       "       [0.16747491, 0.06332738, 0.75415975, 0.01503796]])"
      ]
     },
     "execution_count": 553,
     "metadata": {},
     "output_type": "execute_result"
    }
   ],
   "source": [
    "cal_scores"
   ]
  },
  {
   "cell_type": "code",
   "execution_count": null,
   "id": "57802c22",
   "metadata": {},
   "outputs": [],
   "source": []
  },
  {
   "cell_type": "code",
   "execution_count": null,
   "id": "167f3615",
   "metadata": {},
   "outputs": [],
   "source": []
  },
  {
   "cell_type": "code",
   "execution_count": null,
   "id": "84976d7f",
   "metadata": {},
   "outputs": [],
   "source": []
  },
  {
   "cell_type": "code",
   "execution_count": 554,
   "id": "5cb1578c",
   "metadata": {},
   "outputs": [],
   "source": [
    "# marginal coverages\n",
    "\n",
    "aps_agg_coverage = np.array(list(alpha_aps_overall_coverage.values()))\n",
    "# lac_agg_coverage = np.array(list(alpha_lac_overall_coverage.values()))\n",
    "# cdf_agg_coverage = np.array(list(alpha_cdf_overall_coverage.values()))\n",
    "\n",
    "aps_agg_size = np.array(list(alpha_aps_overall_size.values()))\n",
    "# lac_agg_size = np.array(list(alpha_lac_overall_size.values()))\n",
    "# cdf_agg_size = np.array(list(alpha_cdf_overall_size.values()))"
   ]
  },
  {
   "cell_type": "code",
   "execution_count": 555,
   "id": "e2220f28",
   "metadata": {},
   "outputs": [
    {
     "data": {
      "text/plain": [
       "[1.0,\n",
       " 0.9728947368421054,\n",
       " 0.9122631578947369,\n",
       " 0.8759999999999998,\n",
       " 0.8166842105263159]"
      ]
     },
     "execution_count": 555,
     "metadata": {},
     "output_type": "execute_result"
    }
   ],
   "source": [
    "agg_aps_cvg = []\n",
    "for x in aps_agg_coverage:\n",
    "    agg_aps_cvg.append(x.mean()) \n",
    "agg_aps_cvg"
   ]
  },
  {
   "cell_type": "code",
   "execution_count": 556,
   "id": "b33a7c87",
   "metadata": {},
   "outputs": [
    {
     "data": {
      "text/plain": [
       "[4.0,\n",
       " 3.972684210526316,\n",
       " 3.910157894736842,\n",
       " 3.8655263157894737,\n",
       " 3.7798421052631577]"
      ]
     },
     "execution_count": 556,
     "metadata": {},
     "output_type": "execute_result"
    }
   ],
   "source": [
    "agg_aps_size = []\n",
    "for x in aps_agg_size:\n",
    "    agg_aps_size.append(x.mean()) \n",
    "agg_aps_size"
   ]
  },
  {
   "cell_type": "code",
   "execution_count": 181,
   "id": "982ae172",
   "metadata": {},
   "outputs": [],
   "source": [
    "aps_sev_coverage = np.array([alpha_aps_class_cond_coverage[alpha]['sev'] for alpha in alphas])\n",
    "aps_mod_coverage = np.array([alpha_aps_class_cond_coverage[alpha]['mod'] for alpha in alphas])\n",
    "aps_mil_coverage = np.array([alpha_aps_class_cond_coverage[alpha]['mil'] for alpha in alphas])\n",
    "aps_neg_coverage = np.array([alpha_aps_class_cond_coverage[alpha]['neg'] for alpha in alphas])"
   ]
  },
  {
   "cell_type": "code",
   "execution_count": 182,
   "id": "7c8e8ddb",
   "metadata": {},
   "outputs": [
    {
     "data": {
      "text/plain": [
       "[0.9647882288776549,\n",
       " 0.8680238620203284,\n",
       " 0.8156585198611234,\n",
       " 0.8016426437462786,\n",
       " 0.7767824088469394]"
      ]
     },
     "execution_count": 182,
     "metadata": {},
     "output_type": "execute_result"
    }
   ],
   "source": [
    "aps_neg_cvg = []\n",
    "for x in aps_neg_coverage:\n",
    "    aps_neg_cvg.append(x.mean())\n",
    "aps_neg_cvg"
   ]
  },
  {
   "cell_type": "code",
   "execution_count": 183,
   "id": "91b598b3",
   "metadata": {},
   "outputs": [
    {
     "data": {
      "text/plain": [
       "[1.0,\n",
       " 0.9908977636167537,\n",
       " 0.9754775590574657,\n",
       " 0.9579817832365757,\n",
       " 0.9079794186320386]"
      ]
     },
     "execution_count": 183,
     "metadata": {},
     "output_type": "execute_result"
    }
   ],
   "source": [
    "aps_mil_cvg = []\n",
    "for x in aps_mil_coverage:\n",
    "    aps_mil_cvg.append(x.mean())\n",
    "aps_mil_cvg"
   ]
  },
  {
   "cell_type": "code",
   "execution_count": 184,
   "id": "862a1a5d",
   "metadata": {},
   "outputs": [
    {
     "data": {
      "text/plain": [
       "[1.0,\n",
       " 0.9835290187758171,\n",
       " 0.8805336045904183,\n",
       " 0.7750512774143183,\n",
       " 0.6795112761127017]"
      ]
     },
     "execution_count": 184,
     "metadata": {},
     "output_type": "execute_result"
    }
   ],
   "source": [
    "aps_mod_cvg = []\n",
    "for x in aps_mod_coverage:\n",
    "    aps_mod_cvg.append(x.mean())\n",
    "aps_mod_cvg"
   ]
  },
  {
   "cell_type": "code",
   "execution_count": 185,
   "id": "037ee62e",
   "metadata": {},
   "outputs": [
    {
     "data": {
      "text/plain": [
       "[0.9998512050543983,\n",
       " 0.9866820721950782,\n",
       " 0.945816662874484,\n",
       " 0.894774539596991,\n",
       " 0.8325281771908765]"
      ]
     },
     "execution_count": 185,
     "metadata": {},
     "output_type": "execute_result"
    }
   ],
   "source": [
    "aps_sev_cvg = []\n",
    "for x in aps_sev_coverage:\n",
    "    aps_sev_cvg.append(x.mean())\n",
    "aps_sev_cvg"
   ]
  },
  {
   "cell_type": "code",
   "execution_count": 187,
   "id": "03f21f24",
   "metadata": {},
   "outputs": [],
   "source": [
    "severe_conditional_cvg = pd.DataFrame(aps_sev_coverage)\n",
    "mild_conditional_cvg = pd.DataFrame(aps_mil_coverage)\n",
    "moderate_conditional_cvg = pd.DataFrame(aps_mod_coverage)\n",
    "negative_conditional_cvg = pd.DataFrame(aps_neg_coverage)"
   ]
  },
  {
   "cell_type": "code",
   "execution_count": 188,
   "id": "5cf6c54e",
   "metadata": {},
   "outputs": [],
   "source": [
    "severe_conditional_cvg.to_csv('/Users/subhrasishchakraborty/Desktop/severe_conditional_cvg.csv')\n",
    "mild_conditional_cvg.to_csv('/Users/subhrasishchakraborty/Desktop/mild_conditional_cvg.csv')\n",
    "moderate_conditional_cvg.to_csv('/Users/subhrasishchakraborty/Desktop/moderate_conditional_cvg.csv')\n",
    "negative_conditional_cvg.to_csv('/Users/subhrasishchakraborty/Desktop/negative_conditional_cvg.csv')"
   ]
  },
  {
   "cell_type": "code",
   "execution_count": null,
   "id": "576cc97e",
   "metadata": {},
   "outputs": [],
   "source": []
  },
  {
   "cell_type": "code",
   "execution_count": null,
   "id": "b6de39d8",
   "metadata": {},
   "outputs": [],
   "source": []
  },
  {
   "cell_type": "code",
   "execution_count": null,
   "id": "9d8686f3",
   "metadata": {},
   "outputs": [],
   "source": []
  }
 ],
 "metadata": {
  "kernelspec": {
   "display_name": "Python 3 (ipykernel)",
   "language": "python",
   "name": "python3"
  },
  "language_info": {
   "codemirror_mode": {
    "name": "ipython",
    "version": 3
   },
   "file_extension": ".py",
   "mimetype": "text/x-python",
   "name": "python",
   "nbconvert_exporter": "python",
   "pygments_lexer": "ipython3",
   "version": "3.9.10"
  }
 },
 "nbformat": 4,
 "nbformat_minor": 5
}
