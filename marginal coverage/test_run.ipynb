{
 "cells": [
  {
   "cell_type": "code",
   "execution_count": 1,
   "id": "2bbbd0e7",
   "metadata": {},
   "outputs": [],
   "source": [
    "import random\n",
    "random.seed(1000)\n",
    "import ast\n",
    "import os\n",
    "import collections\n",
    "from importlib import reload\n",
    "import pandas as pd\n",
    "import numpy as np\n",
    "np.random.seed(1000)\n",
    "import matplotlib.pyplot as plt\n",
    "import matplotlib.ticker as mtick\n",
    "from matplotlib import cm\n",
    "from matplotlib.colors import LightSource\n",
    "import scipy.stats"
   ]
  },
  {
   "cell_type": "code",
   "execution_count": 2,
   "id": "4c4cda73",
   "metadata": {},
   "outputs": [
    {
     "data": {
      "text/plain": [
       "'/Users/subhrasishchakraborty'"
      ]
     },
     "execution_count": 2,
     "metadata": {},
     "output_type": "execute_result"
    }
   ],
   "source": [
    "os.getcwd()"
   ]
  },
  {
   "cell_type": "code",
   "execution_count": 61,
   "id": "014b9359",
   "metadata": {},
   "outputs": [],
   "source": [
    "os.chdir('/Users/subhrasishchakraborty/Desktop')\n",
    "calibration_data = pd.read_csv('/Users/subhrasishchakraborty/Desktop/calibration_data_acc_leeds.csv')\n",
    "validation_data = pd.read_csv('/Users/subhrasishchakraborty/Desktop/validation_data_acc_leeds.csv')\n",
    "os.chdir('/Users/subhrasishchakraborty/Desktop/lumbar-conformal-main/scripts')"
   ]
  },
  {
   "cell_type": "code",
   "execution_count": 62,
   "id": "06370c13",
   "metadata": {},
   "outputs": [],
   "source": [
    "import conformal_demo"
   ]
  },
  {
   "cell_type": "code",
   "execution_count": 63,
   "id": "860434d9",
   "metadata": {},
   "outputs": [],
   "source": [
    "#alphas = np.array([0.05,0.10,0.15,0.2,0.25])\n",
    "alphas = np.array([0.05,0.06,0.07,0.08,0.09,0.1,0.11,0.12,0.13,0.14,0.15])"
   ]
  },
  {
   "cell_type": "code",
   "execution_count": 64,
   "id": "52958a26",
   "metadata": {},
   "outputs": [],
   "source": [
    "cal_labels = calibration_data[\"cal_labels\"]\n",
    "val_labels = validation_data[\"val_labels\"]"
   ]
  },
  {
   "cell_type": "code",
   "execution_count": 66,
   "id": "c7e41e82",
   "metadata": {},
   "outputs": [
    {
     "data": {
      "text/html": [
       "<div>\n",
       "<style scoped>\n",
       "    .dataframe tbody tr th:only-of-type {\n",
       "        vertical-align: middle;\n",
       "    }\n",
       "\n",
       "    .dataframe tbody tr th {\n",
       "        vertical-align: top;\n",
       "    }\n",
       "\n",
       "    .dataframe thead th {\n",
       "        text-align: right;\n",
       "    }\n",
       "</style>\n",
       "<table border=\"1\" class=\"dataframe\">\n",
       "  <thead>\n",
       "    <tr style=\"text-align: right;\">\n",
       "      <th></th>\n",
       "      <th>Unnamed: 0</th>\n",
       "      <th>X1</th>\n",
       "      <th>X2</th>\n",
       "      <th>X3</th>\n",
       "      <th>val_labels</th>\n",
       "    </tr>\n",
       "  </thead>\n",
       "  <tbody>\n",
       "    <tr>\n",
       "      <th>0</th>\n",
       "      <td>3</td>\n",
       "      <td>2.185390e-04</td>\n",
       "      <td>0.096059</td>\n",
       "      <td>0.903723</td>\n",
       "      <td>3</td>\n",
       "    </tr>\n",
       "    <tr>\n",
       "      <th>1</th>\n",
       "      <td>4</td>\n",
       "      <td>9.586234e-05</td>\n",
       "      <td>0.090080</td>\n",
       "      <td>0.909825</td>\n",
       "      <td>3</td>\n",
       "    </tr>\n",
       "    <tr>\n",
       "      <th>2</th>\n",
       "      <td>5</td>\n",
       "      <td>1.656744e-05</td>\n",
       "      <td>0.054663</td>\n",
       "      <td>0.945321</td>\n",
       "      <td>3</td>\n",
       "    </tr>\n",
       "    <tr>\n",
       "      <th>3</th>\n",
       "      <td>7</td>\n",
       "      <td>9.631474e-04</td>\n",
       "      <td>0.131337</td>\n",
       "      <td>0.867700</td>\n",
       "      <td>3</td>\n",
       "    </tr>\n",
       "    <tr>\n",
       "      <th>4</th>\n",
       "      <td>8</td>\n",
       "      <td>1.031014e-01</td>\n",
       "      <td>0.155926</td>\n",
       "      <td>0.740972</td>\n",
       "      <td>3</td>\n",
       "    </tr>\n",
       "    <tr>\n",
       "      <th>...</th>\n",
       "      <td>...</td>\n",
       "      <td>...</td>\n",
       "      <td>...</td>\n",
       "      <td>...</td>\n",
       "      <td>...</td>\n",
       "    </tr>\n",
       "    <tr>\n",
       "      <th>1110</th>\n",
       "      <td>1900</td>\n",
       "      <td>3.515550e-02</td>\n",
       "      <td>0.056836</td>\n",
       "      <td>0.908009</td>\n",
       "      <td>3</td>\n",
       "    </tr>\n",
       "    <tr>\n",
       "      <th>1111</th>\n",
       "      <td>1903</td>\n",
       "      <td>1.284894e-05</td>\n",
       "      <td>0.165176</td>\n",
       "      <td>0.834812</td>\n",
       "      <td>3</td>\n",
       "    </tr>\n",
       "    <tr>\n",
       "      <th>1112</th>\n",
       "      <td>1904</td>\n",
       "      <td>6.099199e-16</td>\n",
       "      <td>0.224010</td>\n",
       "      <td>0.775990</td>\n",
       "      <td>2</td>\n",
       "    </tr>\n",
       "    <tr>\n",
       "      <th>1113</th>\n",
       "      <td>1905</td>\n",
       "      <td>6.371939e-02</td>\n",
       "      <td>0.199236</td>\n",
       "      <td>0.737045</td>\n",
       "      <td>2</td>\n",
       "    </tr>\n",
       "    <tr>\n",
       "      <th>1114</th>\n",
       "      <td>1907</td>\n",
       "      <td>3.337927e-03</td>\n",
       "      <td>0.102875</td>\n",
       "      <td>0.893787</td>\n",
       "      <td>3</td>\n",
       "    </tr>\n",
       "  </tbody>\n",
       "</table>\n",
       "<p>1115 rows × 5 columns</p>\n",
       "</div>"
      ],
      "text/plain": [
       "      Unnamed: 0            X1        X2        X3  val_labels\n",
       "0              3  2.185390e-04  0.096059  0.903723           3\n",
       "1              4  9.586234e-05  0.090080  0.909825           3\n",
       "2              5  1.656744e-05  0.054663  0.945321           3\n",
       "3              7  9.631474e-04  0.131337  0.867700           3\n",
       "4              8  1.031014e-01  0.155926  0.740972           3\n",
       "...          ...           ...       ...       ...         ...\n",
       "1110        1900  3.515550e-02  0.056836  0.908009           3\n",
       "1111        1903  1.284894e-05  0.165176  0.834812           3\n",
       "1112        1904  6.099199e-16  0.224010  0.775990           2\n",
       "1113        1905  6.371939e-02  0.199236  0.737045           2\n",
       "1114        1907  3.337927e-03  0.102875  0.893787           3\n",
       "\n",
       "[1115 rows x 5 columns]"
      ]
     },
     "execution_count": 66,
     "metadata": {},
     "output_type": "execute_result"
    }
   ],
   "source": [
    "validation_data"
   ]
  },
  {
   "cell_type": "code",
   "execution_count": 67,
   "id": "9f90716f",
   "metadata": {},
   "outputs": [
    {
     "data": {
      "text/html": [
       "<div>\n",
       "<style scoped>\n",
       "    .dataframe tbody tr th:only-of-type {\n",
       "        vertical-align: middle;\n",
       "    }\n",
       "\n",
       "    .dataframe tbody tr th {\n",
       "        vertical-align: top;\n",
       "    }\n",
       "\n",
       "    .dataframe thead th {\n",
       "        text-align: right;\n",
       "    }\n",
       "</style>\n",
       "<table border=\"1\" class=\"dataframe\">\n",
       "  <thead>\n",
       "    <tr style=\"text-align: right;\">\n",
       "      <th></th>\n",
       "      <th>X1</th>\n",
       "      <th>X2</th>\n",
       "      <th>X3</th>\n",
       "    </tr>\n",
       "  </thead>\n",
       "  <tbody>\n",
       "    <tr>\n",
       "      <th>0</th>\n",
       "      <td>2.185390e-04</td>\n",
       "      <td>0.096059</td>\n",
       "      <td>0.903723</td>\n",
       "    </tr>\n",
       "    <tr>\n",
       "      <th>1</th>\n",
       "      <td>9.586234e-05</td>\n",
       "      <td>0.090080</td>\n",
       "      <td>0.909825</td>\n",
       "    </tr>\n",
       "    <tr>\n",
       "      <th>2</th>\n",
       "      <td>1.656744e-05</td>\n",
       "      <td>0.054663</td>\n",
       "      <td>0.945321</td>\n",
       "    </tr>\n",
       "    <tr>\n",
       "      <th>3</th>\n",
       "      <td>9.631474e-04</td>\n",
       "      <td>0.131337</td>\n",
       "      <td>0.867700</td>\n",
       "    </tr>\n",
       "    <tr>\n",
       "      <th>4</th>\n",
       "      <td>1.031014e-01</td>\n",
       "      <td>0.155926</td>\n",
       "      <td>0.740972</td>\n",
       "    </tr>\n",
       "    <tr>\n",
       "      <th>...</th>\n",
       "      <td>...</td>\n",
       "      <td>...</td>\n",
       "      <td>...</td>\n",
       "    </tr>\n",
       "    <tr>\n",
       "      <th>1110</th>\n",
       "      <td>3.515550e-02</td>\n",
       "      <td>0.056836</td>\n",
       "      <td>0.908009</td>\n",
       "    </tr>\n",
       "    <tr>\n",
       "      <th>1111</th>\n",
       "      <td>1.284894e-05</td>\n",
       "      <td>0.165176</td>\n",
       "      <td>0.834812</td>\n",
       "    </tr>\n",
       "    <tr>\n",
       "      <th>1112</th>\n",
       "      <td>6.099199e-16</td>\n",
       "      <td>0.224010</td>\n",
       "      <td>0.775990</td>\n",
       "    </tr>\n",
       "    <tr>\n",
       "      <th>1113</th>\n",
       "      <td>6.371939e-02</td>\n",
       "      <td>0.199236</td>\n",
       "      <td>0.737045</td>\n",
       "    </tr>\n",
       "    <tr>\n",
       "      <th>1114</th>\n",
       "      <td>3.337927e-03</td>\n",
       "      <td>0.102875</td>\n",
       "      <td>0.893787</td>\n",
       "    </tr>\n",
       "  </tbody>\n",
       "</table>\n",
       "<p>1115 rows × 3 columns</p>\n",
       "</div>"
      ],
      "text/plain": [
       "                X1        X2        X3\n",
       "0     2.185390e-04  0.096059  0.903723\n",
       "1     9.586234e-05  0.090080  0.909825\n",
       "2     1.656744e-05  0.054663  0.945321\n",
       "3     9.631474e-04  0.131337  0.867700\n",
       "4     1.031014e-01  0.155926  0.740972\n",
       "...            ...       ...       ...\n",
       "1110  3.515550e-02  0.056836  0.908009\n",
       "1111  1.284894e-05  0.165176  0.834812\n",
       "1112  6.099199e-16  0.224010  0.775990\n",
       "1113  6.371939e-02  0.199236  0.737045\n",
       "1114  3.337927e-03  0.102875  0.893787\n",
       "\n",
       "[1115 rows x 3 columns]"
      ]
     },
     "execution_count": 67,
     "metadata": {},
     "output_type": "execute_result"
    }
   ],
   "source": [
    "cal_scores = calibration_data[calibration_data.columns[1:4]]\n",
    "val_scores = validation_data[validation_data.columns[1:4]]\n",
    "val_scores"
   ]
  },
  {
   "cell_type": "code",
   "execution_count": 68,
   "id": "ea550ce1",
   "metadata": {},
   "outputs": [],
   "source": [
    "# cal_scores = cal_scores.to_numpy()\n",
    "# val_scores = val_scores.to_numpy()\n",
    "#num_trials = 10"
   ]
  },
  {
   "cell_type": "code",
   "execution_count": 71,
   "id": "876f5856",
   "metadata": {},
   "outputs": [],
   "source": [
    "alpha_aps_overall_coverage = collections.defaultdict(list)\n",
    "alpha_aps_overall_size = collections.defaultdict(list)"
   ]
  },
  {
   "cell_type": "code",
   "execution_count": 72,
   "id": "42d0cd97",
   "metadata": {},
   "outputs": [],
   "source": [
    "cal_labels = cal_labels - 1\n",
    "val_labels = val_labels - 1"
   ]
  },
  {
   "cell_type": "code",
   "execution_count": 73,
   "id": "f171e6e1",
   "metadata": {},
   "outputs": [],
   "source": [
    "num_trials = 5\n",
    "for alpha in alphas:\n",
    "    aps_overall_coverage = []\n",
    "    aps_overall_size = []\n",
    "    \n",
    "    for trial in range(num_trials):\n",
    "        aps_qhat = conformal_demo.get_qhat_ordinal_aps(\n",
    "            conformal_demo.ordinal_aps_prediction,\n",
    "            np.copy(cal_scores),\n",
    "            np.copy(cal_labels),\n",
    "            alpha)\n",
    "        aps_pred_sets = conformal_demo.ordinal_aps_prediction(np.copy(val_scores), aps_qhat)\n",
    "        aps_overall_coverage.append(aps_pred_sets[np.arange(val_scores.shape[0]), val_labels].sum() / val_labels.shape[0])\n",
    "        aps_overall_size.append(aps_pred_sets.sum(1).mean())\n",
    "        \n",
    "    alpha_aps_overall_coverage[alpha] = aps_overall_coverage\n",
    "    alpha_aps_overall_size[alpha] = aps_overall_size\n",
    "    "
   ]
  },
  {
   "cell_type": "code",
   "execution_count": 74,
   "id": "e8950d78",
   "metadata": {},
   "outputs": [],
   "source": [
    "aps_agg_coverage = np.array(list(alpha_aps_overall_coverage.values()))\n",
    "aps_agg_size = np.array(list(alpha_aps_overall_size.values()))"
   ]
  },
  {
   "cell_type": "code",
   "execution_count": 75,
   "id": "c9dab31b",
   "metadata": {},
   "outputs": [],
   "source": [
    "agg_aps_cvg = []\n",
    "for x in aps_agg_coverage:\n",
    "    agg_aps_cvg.append(x.mean()) "
   ]
  },
  {
   "cell_type": "code",
   "execution_count": 76,
   "id": "9f20110f",
   "metadata": {},
   "outputs": [
    {
     "data": {
      "text/plain": [
       "[0.9479820627802692,\n",
       " 0.9426008968609866,\n",
       " 0.9336322869955158,\n",
       " 0.9246636771300448,\n",
       " 0.9147982062780269,\n",
       " 0.8941704035874439,\n",
       " 0.8932735426008968,\n",
       " 0.8681614349775785,\n",
       " 0.863677130044843,\n",
       " 0.8573991031390135,\n",
       " 0.8484304932735427]"
      ]
     },
     "execution_count": 76,
     "metadata": {},
     "output_type": "execute_result"
    }
   ],
   "source": [
    "agg_aps_cvg"
   ]
  },
  {
   "cell_type": "code",
   "execution_count": 77,
   "id": "a39e7418",
   "metadata": {},
   "outputs": [
    {
     "data": {
      "text/plain": [
       "[1.6188340807174888,\n",
       " 1.5865470852017938,\n",
       " 1.5461883408071748,\n",
       " 1.495964125560538,\n",
       " 1.4385650224215247,\n",
       " 1.3551569506726457,\n",
       " 1.3300448430493275,\n",
       " 1.240358744394619,\n",
       " 1.209865470852018,\n",
       " 1.1829596412556054,\n",
       " 1.1497757847533632]"
      ]
     },
     "execution_count": 77,
     "metadata": {},
     "output_type": "execute_result"
    }
   ],
   "source": [
    "agg_aps_size = []\n",
    "for x in aps_agg_size:\n",
    "    agg_aps_size.append(x.mean()) \n",
    "agg_aps_size"
   ]
  },
  {
   "cell_type": "code",
   "execution_count": null,
   "id": "af4e34b8",
   "metadata": {},
   "outputs": [],
   "source": []
  }
 ],
 "metadata": {
  "kernelspec": {
   "display_name": "Python 3 (ipykernel)",
   "language": "python",
   "name": "python3"
  },
  "language_info": {
   "codemirror_mode": {
    "name": "ipython",
    "version": 3
   },
   "file_extension": ".py",
   "mimetype": "text/x-python",
   "name": "python",
   "nbconvert_exporter": "python",
   "pygments_lexer": "ipython3",
   "version": "3.9.10"
  }
 },
 "nbformat": 4,
 "nbformat_minor": 5
}
